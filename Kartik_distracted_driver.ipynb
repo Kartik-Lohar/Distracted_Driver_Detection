{
  "cells": [
    {
      "cell_type": "code",
      "source": [
        "from google.colab import drive\n",
        "drive.mount('/content/drive')"
      ],
      "metadata": {
        "colab": {
          "base_uri": "https://localhost:8080/"
        },
        "id": "C3J59QZRzFap",
        "outputId": "a2a2a722-ed73-4ae4-d8ba-a679f3b4734c"
      },
      "id": "C3J59QZRzFap",
      "execution_count": 1,
      "outputs": [
        {
          "output_type": "stream",
          "name": "stdout",
          "text": [
            "Mounted at /content/drive\n"
          ]
        }
      ]
    },
    {
      "cell_type": "code",
      "execution_count": null,
      "id": "4736a950",
      "metadata": {
        "_cell_guid": "b1076dfc-b9ad-4769-8c92-a6c4dae69d19",
        "_uuid": "8f2839f25d086af736a60e9eeb907d3b93b6e0e5",
        "execution": {
          "iopub.execute_input": "2023-02-01T12:50:59.222178Z",
          "iopub.status.busy": "2023-02-01T12:50:59.221632Z",
          "iopub.status.idle": "2023-02-01T12:50:59.233658Z",
          "shell.execute_reply": "2023-02-01T12:50:59.232670Z"
        },
        "papermill": {
          "duration": 0.026982,
          "end_time": "2023-02-01T12:50:59.236081",
          "exception": false,
          "start_time": "2023-02-01T12:50:59.209099",
          "status": "completed"
        },
        "tags": [],
        "id": "4736a950"
      },
      "outputs": [],
      "source": [
        "# This Python 3 environment comes with many helpful analytics libraries installed\n",
        "# It is defined by the kaggle/python Docker image: https://github.com/kaggle/docker-python\n",
        "# For example, here's several helpful packages to load\n",
        "\n",
        "import numpy as np # linear algebra\n",
        "import pandas as pd # data processing, CSV file I/O (e.g. pd.read_csv)\n",
        "\n",
        "# Input data files are available in the read-only \"../input/\" directory\n",
        "# For example, running this (by clicking run or pressing Shift+Enter) will list all files under the input directory\n",
        "\n",
        "# import os\n",
        "# for dirname, _, filenames in os.walk('/kaggle/input'):\n",
        "#     for filename in filenames:\n",
        "#         print(os.path.join(dirname, filename))\n",
        "\n",
        "# You can write up to 20GB to the current directory (/kaggle/working/) that gets preserved as output when you create a version using \"Save & Run All\" \n",
        "# You can also write temporary files to /kaggle/temp/, but they won't be saved outside of the current session"
      ]
    },
    {
      "cell_type": "code",
      "execution_count": null,
      "id": "750d92a6",
      "metadata": {
        "execution": {
          "iopub.execute_input": "2023-02-01T12:50:59.256653Z",
          "iopub.status.busy": "2023-02-01T12:50:59.255630Z",
          "iopub.status.idle": "2023-02-01T12:50:59.260967Z",
          "shell.execute_reply": "2023-02-01T12:50:59.260028Z"
        },
        "papermill": {
          "duration": 0.017666,
          "end_time": "2023-02-01T12:50:59.263091",
          "exception": false,
          "start_time": "2023-02-01T12:50:59.245425",
          "status": "completed"
        },
        "tags": [],
        "id": "750d92a6"
      },
      "outputs": [],
      "source": [
        "# os.listdir('../input')"
      ]
    },
    {
      "cell_type": "markdown",
      "id": "11e3d50a",
      "metadata": {
        "papermill": {
          "duration": 0.00899,
          "end_time": "2023-02-01T12:50:59.281112",
          "exception": false,
          "start_time": "2023-02-01T12:50:59.272122",
          "status": "completed"
        },
        "tags": [],
        "id": "11e3d50a"
      },
      "source": [
        "# Xploring the files and getting the path"
      ]
    },
    {
      "cell_type": "markdown",
      "source": [
        "Donlaoding the FIles from Kaggle"
      ],
      "metadata": {
        "id": "XQc7Xgv14Hn5"
      },
      "id": "XQc7Xgv14Hn5"
    },
    {
      "cell_type": "code",
      "source": [
        "!pip install -q kaggle  # Downloading the files from kaggle"
      ],
      "metadata": {
        "id": "B9PLkMlMb_-4"
      },
      "id": "B9PLkMlMb_-4",
      "execution_count": 1,
      "outputs": []
    },
    {
      "cell_type": "code",
      "source": [
        "from google.colab import files\n",
        "files.upload()"
      ],
      "metadata": {
        "colab": {
          "base_uri": "https://localhost:8080/",
          "height": 90
        },
        "id": "1tYdhU6Oc3ho",
        "outputId": "a0581b13-9532-46b5-a6d6-0b194a64c80f"
      },
      "id": "1tYdhU6Oc3ho",
      "execution_count": 2,
      "outputs": [
        {
          "output_type": "display_data",
          "data": {
            "text/plain": [
              "<IPython.core.display.HTML object>"
            ],
            "text/html": [
              "\n",
              "     <input type=\"file\" id=\"files-4dc1d3c3-db15-42d5-9f8a-1f2a67bf7294\" name=\"files[]\" multiple disabled\n",
              "        style=\"border:none\" />\n",
              "     <output id=\"result-4dc1d3c3-db15-42d5-9f8a-1f2a67bf7294\">\n",
              "      Upload widget is only available when the cell has been executed in the\n",
              "      current browser session. Please rerun this cell to enable.\n",
              "      </output>\n",
              "      <script>// Copyright 2017 Google LLC\n",
              "//\n",
              "// Licensed under the Apache License, Version 2.0 (the \"License\");\n",
              "// you may not use this file except in compliance with the License.\n",
              "// You may obtain a copy of the License at\n",
              "//\n",
              "//      http://www.apache.org/licenses/LICENSE-2.0\n",
              "//\n",
              "// Unless required by applicable law or agreed to in writing, software\n",
              "// distributed under the License is distributed on an \"AS IS\" BASIS,\n",
              "// WITHOUT WARRANTIES OR CONDITIONS OF ANY KIND, either express or implied.\n",
              "// See the License for the specific language governing permissions and\n",
              "// limitations under the License.\n",
              "\n",
              "/**\n",
              " * @fileoverview Helpers for google.colab Python module.\n",
              " */\n",
              "(function(scope) {\n",
              "function span(text, styleAttributes = {}) {\n",
              "  const element = document.createElement('span');\n",
              "  element.textContent = text;\n",
              "  for (const key of Object.keys(styleAttributes)) {\n",
              "    element.style[key] = styleAttributes[key];\n",
              "  }\n",
              "  return element;\n",
              "}\n",
              "\n",
              "// Max number of bytes which will be uploaded at a time.\n",
              "const MAX_PAYLOAD_SIZE = 100 * 1024;\n",
              "\n",
              "function _uploadFiles(inputId, outputId) {\n",
              "  const steps = uploadFilesStep(inputId, outputId);\n",
              "  const outputElement = document.getElementById(outputId);\n",
              "  // Cache steps on the outputElement to make it available for the next call\n",
              "  // to uploadFilesContinue from Python.\n",
              "  outputElement.steps = steps;\n",
              "\n",
              "  return _uploadFilesContinue(outputId);\n",
              "}\n",
              "\n",
              "// This is roughly an async generator (not supported in the browser yet),\n",
              "// where there are multiple asynchronous steps and the Python side is going\n",
              "// to poll for completion of each step.\n",
              "// This uses a Promise to block the python side on completion of each step,\n",
              "// then passes the result of the previous step as the input to the next step.\n",
              "function _uploadFilesContinue(outputId) {\n",
              "  const outputElement = document.getElementById(outputId);\n",
              "  const steps = outputElement.steps;\n",
              "\n",
              "  const next = steps.next(outputElement.lastPromiseValue);\n",
              "  return Promise.resolve(next.value.promise).then((value) => {\n",
              "    // Cache the last promise value to make it available to the next\n",
              "    // step of the generator.\n",
              "    outputElement.lastPromiseValue = value;\n",
              "    return next.value.response;\n",
              "  });\n",
              "}\n",
              "\n",
              "/**\n",
              " * Generator function which is called between each async step of the upload\n",
              " * process.\n",
              " * @param {string} inputId Element ID of the input file picker element.\n",
              " * @param {string} outputId Element ID of the output display.\n",
              " * @return {!Iterable<!Object>} Iterable of next steps.\n",
              " */\n",
              "function* uploadFilesStep(inputId, outputId) {\n",
              "  const inputElement = document.getElementById(inputId);\n",
              "  inputElement.disabled = false;\n",
              "\n",
              "  const outputElement = document.getElementById(outputId);\n",
              "  outputElement.innerHTML = '';\n",
              "\n",
              "  const pickedPromise = new Promise((resolve) => {\n",
              "    inputElement.addEventListener('change', (e) => {\n",
              "      resolve(e.target.files);\n",
              "    });\n",
              "  });\n",
              "\n",
              "  const cancel = document.createElement('button');\n",
              "  inputElement.parentElement.appendChild(cancel);\n",
              "  cancel.textContent = 'Cancel upload';\n",
              "  const cancelPromise = new Promise((resolve) => {\n",
              "    cancel.onclick = () => {\n",
              "      resolve(null);\n",
              "    };\n",
              "  });\n",
              "\n",
              "  // Wait for the user to pick the files.\n",
              "  const files = yield {\n",
              "    promise: Promise.race([pickedPromise, cancelPromise]),\n",
              "    response: {\n",
              "      action: 'starting',\n",
              "    }\n",
              "  };\n",
              "\n",
              "  cancel.remove();\n",
              "\n",
              "  // Disable the input element since further picks are not allowed.\n",
              "  inputElement.disabled = true;\n",
              "\n",
              "  if (!files) {\n",
              "    return {\n",
              "      response: {\n",
              "        action: 'complete',\n",
              "      }\n",
              "    };\n",
              "  }\n",
              "\n",
              "  for (const file of files) {\n",
              "    const li = document.createElement('li');\n",
              "    li.append(span(file.name, {fontWeight: 'bold'}));\n",
              "    li.append(span(\n",
              "        `(${file.type || 'n/a'}) - ${file.size} bytes, ` +\n",
              "        `last modified: ${\n",
              "            file.lastModifiedDate ? file.lastModifiedDate.toLocaleDateString() :\n",
              "                                    'n/a'} - `));\n",
              "    const percent = span('0% done');\n",
              "    li.appendChild(percent);\n",
              "\n",
              "    outputElement.appendChild(li);\n",
              "\n",
              "    const fileDataPromise = new Promise((resolve) => {\n",
              "      const reader = new FileReader();\n",
              "      reader.onload = (e) => {\n",
              "        resolve(e.target.result);\n",
              "      };\n",
              "      reader.readAsArrayBuffer(file);\n",
              "    });\n",
              "    // Wait for the data to be ready.\n",
              "    let fileData = yield {\n",
              "      promise: fileDataPromise,\n",
              "      response: {\n",
              "        action: 'continue',\n",
              "      }\n",
              "    };\n",
              "\n",
              "    // Use a chunked sending to avoid message size limits. See b/62115660.\n",
              "    let position = 0;\n",
              "    do {\n",
              "      const length = Math.min(fileData.byteLength - position, MAX_PAYLOAD_SIZE);\n",
              "      const chunk = new Uint8Array(fileData, position, length);\n",
              "      position += length;\n",
              "\n",
              "      const base64 = btoa(String.fromCharCode.apply(null, chunk));\n",
              "      yield {\n",
              "        response: {\n",
              "          action: 'append',\n",
              "          file: file.name,\n",
              "          data: base64,\n",
              "        },\n",
              "      };\n",
              "\n",
              "      let percentDone = fileData.byteLength === 0 ?\n",
              "          100 :\n",
              "          Math.round((position / fileData.byteLength) * 100);\n",
              "      percent.textContent = `${percentDone}% done`;\n",
              "\n",
              "    } while (position < fileData.byteLength);\n",
              "  }\n",
              "\n",
              "  // All done.\n",
              "  yield {\n",
              "    response: {\n",
              "      action: 'complete',\n",
              "    }\n",
              "  };\n",
              "}\n",
              "\n",
              "scope.google = scope.google || {};\n",
              "scope.google.colab = scope.google.colab || {};\n",
              "scope.google.colab._files = {\n",
              "  _uploadFiles,\n",
              "  _uploadFilesContinue,\n",
              "};\n",
              "})(self);\n",
              "</script> "
            ]
          },
          "metadata": {}
        },
        {
          "output_type": "stream",
          "name": "stdout",
          "text": [
            "Saving kaggle.json to kaggle.json\n"
          ]
        },
        {
          "output_type": "execute_result",
          "data": {
            "text/plain": [
              "{'kaggle.json': b'{\"username\":\"kartikpanchal12\",\"key\":\"26c6e2063ef980f5ab7d734e25f4968c\"}'}"
            ]
          },
          "metadata": {},
          "execution_count": 2
        }
      ]
    },
    {
      "cell_type": "code",
      "source": [
        "# !rm -r ~/.kaggle\n",
        "!mkdir ~/.kaggle\n",
        "!mv ./kaggle.json ~/.kaggle/\n",
        "!chmod 600 ~/.kaggle/kaggle.json\n",
        "# !kaggle datasets list"
      ],
      "metadata": {
        "id": "DWvK5vyBdDZ0"
      },
      "id": "DWvK5vyBdDZ0",
      "execution_count": 3,
      "outputs": []
    },
    {
      "cell_type": "code",
      "source": [
        "!kaggle competitions download -c state-farm-distracted-driver-detection\n",
        "# !kaggle datasets download *url_suffix* -p /content/sample_data/ --unzip"
      ],
      "metadata": {
        "colab": {
          "base_uri": "https://localhost:8080/"
        },
        "id": "82HM6KA5dHrz",
        "outputId": "a307e46d-eaf4-4efa-bb5b-7f717d85974b"
      },
      "id": "82HM6KA5dHrz",
      "execution_count": 4,
      "outputs": [
        {
          "output_type": "stream",
          "name": "stdout",
          "text": [
            "Downloading state-farm-distracted-driver-detection.zip to /content\n",
            "100% 4.00G/4.00G [02:15<00:00, 39.3MB/s]\n",
            "100% 4.00G/4.00G [02:15<00:00, 31.6MB/s]\n"
          ]
        }
      ]
    },
    {
      "cell_type": "markdown",
      "source": [
        "Unzipping the File"
      ],
      "metadata": {
        "id": "kvsrkEnj4Luv"
      },
      "id": "kvsrkEnj4Luv"
    },
    {
      "cell_type": "code",
      "source": [
        "import zipfile\n",
        "zip = zipfile.ZipFile(\"/content/state-farm-distracted-driver-detection.zip\")\n",
        "zip.extractall()\n",
        "zip.close()"
      ],
      "metadata": {
        "id": "rQ2jJul5dbmR"
      },
      "id": "rQ2jJul5dbmR",
      "execution_count": 5,
      "outputs": []
    },
    {
      "cell_type": "markdown",
      "source": [
        "Getting the Paths of the File"
      ],
      "metadata": {
        "id": "04XuYHd14Qdh"
      },
      "id": "04XuYHd14Qdh"
    },
    {
      "cell_type": "code",
      "execution_count": 6,
      "id": "af6107a4",
      "metadata": {
        "execution": {
          "iopub.execute_input": "2023-02-01T12:50:59.302003Z",
          "iopub.status.busy": "2023-02-01T12:50:59.301643Z",
          "iopub.status.idle": "2023-02-01T12:50:59.306617Z",
          "shell.execute_reply": "2023-02-01T12:50:59.305570Z"
        },
        "papermill": {
          "duration": 0.017299,
          "end_time": "2023-02-01T12:50:59.308738",
          "exception": false,
          "start_time": "2023-02-01T12:50:59.291439",
          "status": "completed"
        },
        "tags": [],
        "id": "af6107a4"
      },
      "outputs": [],
      "source": [
        "from os import listdir\n",
        "import pandas as pd\n",
        "import numpy as np\n",
        "train_path = '/content/imgs/train'"
      ]
    },
    {
      "cell_type": "code",
      "execution_count": 7,
      "id": "c58bc564",
      "metadata": {
        "execution": {
          "iopub.execute_input": "2023-02-01T12:50:59.328795Z",
          "iopub.status.busy": "2023-02-01T12:50:59.328440Z",
          "iopub.status.idle": "2023-02-01T12:50:59.333230Z",
          "shell.execute_reply": "2023-02-01T12:50:59.332086Z"
        },
        "papermill": {
          "duration": 0.018471,
          "end_time": "2023-02-01T12:50:59.336022",
          "exception": false,
          "start_time": "2023-02-01T12:50:59.317551",
          "status": "completed"
        },
        "tags": [],
        "id": "c58bc564"
      },
      "outputs": [],
      "source": [
        "test_path = '/content/imgs/test'"
      ]
    },
    {
      "cell_type": "code",
      "execution_count": 8,
      "id": "bafdda75",
      "metadata": {
        "execution": {
          "iopub.execute_input": "2023-02-01T12:50:59.355790Z",
          "iopub.status.busy": "2023-02-01T12:50:59.355412Z",
          "iopub.status.idle": "2023-02-01T12:51:00.064935Z",
          "shell.execute_reply": "2023-02-01T12:51:00.063779Z"
        },
        "papermill": {
          "duration": 0.72291,
          "end_time": "2023-02-01T12:51:00.068109",
          "exception": false,
          "start_time": "2023-02-01T12:50:59.345199",
          "status": "completed"
        },
        "tags": [],
        "colab": {
          "base_uri": "https://localhost:8080/"
        },
        "id": "bafdda75",
        "outputId": "5dab67a9-ac1c-4050-bc01-fa2f83b1e7db"
      },
      "outputs": [
        {
          "output_type": "execute_result",
          "data": {
            "text/plain": [
              "79726"
            ]
          },
          "metadata": {},
          "execution_count": 8
        }
      ],
      "source": [
        "listdir(test_path).__len__()"
      ]
    },
    {
      "cell_type": "code",
      "execution_count": 9,
      "id": "2c564d73",
      "metadata": {
        "execution": {
          "iopub.execute_input": "2023-02-01T12:51:00.098563Z",
          "iopub.status.busy": "2023-02-01T12:51:00.098098Z",
          "iopub.status.idle": "2023-02-01T12:51:00.167154Z",
          "shell.execute_reply": "2023-02-01T12:51:00.165924Z"
        },
        "papermill": {
          "duration": 0.08638,
          "end_time": "2023-02-01T12:51:00.169384",
          "exception": false,
          "start_time": "2023-02-01T12:51:00.083004",
          "status": "completed"
        },
        "tags": [],
        "colab": {
          "base_uri": "https://localhost:8080/",
          "height": 206
        },
        "id": "2c564d73",
        "outputId": "2d75666f-80b5-4989-ab6a-5cf1a94bc9f4"
      },
      "outputs": [
        {
          "output_type": "execute_result",
          "data": {
            "text/plain": [
              "  subject classname            img\n",
              "0    p002        c0  img_44733.jpg\n",
              "1    p002        c0  img_72999.jpg\n",
              "2    p002        c0  img_25094.jpg\n",
              "3    p002        c0  img_69092.jpg\n",
              "4    p002        c0  img_92629.jpg"
            ],
            "text/html": [
              "\n",
              "  <div id=\"df-3d65c8d1-59b7-46fc-bf31-92799684842f\">\n",
              "    <div class=\"colab-df-container\">\n",
              "      <div>\n",
              "<style scoped>\n",
              "    .dataframe tbody tr th:only-of-type {\n",
              "        vertical-align: middle;\n",
              "    }\n",
              "\n",
              "    .dataframe tbody tr th {\n",
              "        vertical-align: top;\n",
              "    }\n",
              "\n",
              "    .dataframe thead th {\n",
              "        text-align: right;\n",
              "    }\n",
              "</style>\n",
              "<table border=\"1\" class=\"dataframe\">\n",
              "  <thead>\n",
              "    <tr style=\"text-align: right;\">\n",
              "      <th></th>\n",
              "      <th>subject</th>\n",
              "      <th>classname</th>\n",
              "      <th>img</th>\n",
              "    </tr>\n",
              "  </thead>\n",
              "  <tbody>\n",
              "    <tr>\n",
              "      <th>0</th>\n",
              "      <td>p002</td>\n",
              "      <td>c0</td>\n",
              "      <td>img_44733.jpg</td>\n",
              "    </tr>\n",
              "    <tr>\n",
              "      <th>1</th>\n",
              "      <td>p002</td>\n",
              "      <td>c0</td>\n",
              "      <td>img_72999.jpg</td>\n",
              "    </tr>\n",
              "    <tr>\n",
              "      <th>2</th>\n",
              "      <td>p002</td>\n",
              "      <td>c0</td>\n",
              "      <td>img_25094.jpg</td>\n",
              "    </tr>\n",
              "    <tr>\n",
              "      <th>3</th>\n",
              "      <td>p002</td>\n",
              "      <td>c0</td>\n",
              "      <td>img_69092.jpg</td>\n",
              "    </tr>\n",
              "    <tr>\n",
              "      <th>4</th>\n",
              "      <td>p002</td>\n",
              "      <td>c0</td>\n",
              "      <td>img_92629.jpg</td>\n",
              "    </tr>\n",
              "  </tbody>\n",
              "</table>\n",
              "</div>\n",
              "      <button class=\"colab-df-convert\" onclick=\"convertToInteractive('df-3d65c8d1-59b7-46fc-bf31-92799684842f')\"\n",
              "              title=\"Convert this dataframe to an interactive table.\"\n",
              "              style=\"display:none;\">\n",
              "        \n",
              "  <svg xmlns=\"http://www.w3.org/2000/svg\" height=\"24px\"viewBox=\"0 0 24 24\"\n",
              "       width=\"24px\">\n",
              "    <path d=\"M0 0h24v24H0V0z\" fill=\"none\"/>\n",
              "    <path d=\"M18.56 5.44l.94 2.06.94-2.06 2.06-.94-2.06-.94-.94-2.06-.94 2.06-2.06.94zm-11 1L8.5 8.5l.94-2.06 2.06-.94-2.06-.94L8.5 2.5l-.94 2.06-2.06.94zm10 10l.94 2.06.94-2.06 2.06-.94-2.06-.94-.94-2.06-.94 2.06-2.06.94z\"/><path d=\"M17.41 7.96l-1.37-1.37c-.4-.4-.92-.59-1.43-.59-.52 0-1.04.2-1.43.59L10.3 9.45l-7.72 7.72c-.78.78-.78 2.05 0 2.83L4 21.41c.39.39.9.59 1.41.59.51 0 1.02-.2 1.41-.59l7.78-7.78 2.81-2.81c.8-.78.8-2.07 0-2.86zM5.41 20L4 18.59l7.72-7.72 1.47 1.35L5.41 20z\"/>\n",
              "  </svg>\n",
              "      </button>\n",
              "      \n",
              "  <style>\n",
              "    .colab-df-container {\n",
              "      display:flex;\n",
              "      flex-wrap:wrap;\n",
              "      gap: 12px;\n",
              "    }\n",
              "\n",
              "    .colab-df-convert {\n",
              "      background-color: #E8F0FE;\n",
              "      border: none;\n",
              "      border-radius: 50%;\n",
              "      cursor: pointer;\n",
              "      display: none;\n",
              "      fill: #1967D2;\n",
              "      height: 32px;\n",
              "      padding: 0 0 0 0;\n",
              "      width: 32px;\n",
              "    }\n",
              "\n",
              "    .colab-df-convert:hover {\n",
              "      background-color: #E2EBFA;\n",
              "      box-shadow: 0px 1px 2px rgba(60, 64, 67, 0.3), 0px 1px 3px 1px rgba(60, 64, 67, 0.15);\n",
              "      fill: #174EA6;\n",
              "    }\n",
              "\n",
              "    [theme=dark] .colab-df-convert {\n",
              "      background-color: #3B4455;\n",
              "      fill: #D2E3FC;\n",
              "    }\n",
              "\n",
              "    [theme=dark] .colab-df-convert:hover {\n",
              "      background-color: #434B5C;\n",
              "      box-shadow: 0px 1px 3px 1px rgba(0, 0, 0, 0.15);\n",
              "      filter: drop-shadow(0px 1px 2px rgba(0, 0, 0, 0.3));\n",
              "      fill: #FFFFFF;\n",
              "    }\n",
              "  </style>\n",
              "\n",
              "      <script>\n",
              "        const buttonEl =\n",
              "          document.querySelector('#df-3d65c8d1-59b7-46fc-bf31-92799684842f button.colab-df-convert');\n",
              "        buttonEl.style.display =\n",
              "          google.colab.kernel.accessAllowed ? 'block' : 'none';\n",
              "\n",
              "        async function convertToInteractive(key) {\n",
              "          const element = document.querySelector('#df-3d65c8d1-59b7-46fc-bf31-92799684842f');\n",
              "          const dataTable =\n",
              "            await google.colab.kernel.invokeFunction('convertToInteractive',\n",
              "                                                     [key], {});\n",
              "          if (!dataTable) return;\n",
              "\n",
              "          const docLinkHtml = 'Like what you see? Visit the ' +\n",
              "            '<a target=\"_blank\" href=https://colab.research.google.com/notebooks/data_table.ipynb>data table notebook</a>'\n",
              "            + ' to learn more about interactive tables.';\n",
              "          element.innerHTML = '';\n",
              "          dataTable['output_type'] = 'display_data';\n",
              "          await google.colab.output.renderOutput(dataTable, element);\n",
              "          const docLink = document.createElement('div');\n",
              "          docLink.innerHTML = docLinkHtml;\n",
              "          element.appendChild(docLink);\n",
              "        }\n",
              "      </script>\n",
              "    </div>\n",
              "  </div>\n",
              "  "
            ]
          },
          "metadata": {},
          "execution_count": 9
        }
      ],
      "source": [
        "data = pd.read_csv(\"/content/driver_imgs_list.csv\")\n",
        "data.head()"
      ]
    },
    {
      "cell_type": "markdown",
      "source": [
        "# Visualizing the Dataset"
      ],
      "metadata": {
        "id": "7374xb0Zzab3"
      },
      "id": "7374xb0Zzab3"
    },
    {
      "cell_type": "code",
      "source": [
        "import os\n",
        "import matplotlib.pyplot as plt\n",
        "\n",
        "train_data_numbers = data.shape[0]\n",
        "train_data_numbers\n",
        "\n",
        "test_data_numbers = len(os.listdir(\"/content/imgs/test\"))\n",
        "test_data_numbers\n",
        "\n",
        "x = (\"train\",\"test\")\n",
        "y = (train_data_numbers,test_data_numbers)\n",
        "\n",
        "fig = plt.figure(figsize = (4,4))\n",
        "fig.add_axes([0,0,1,1])\n",
        "\n",
        "# plt.hist(train_data_numbers,test_data_numbers)\n",
        "plt.bar(x,y,width = 0.25, color = (\"green\",\"blue\"),align = \"center\")\n",
        "\n",
        "plt.title(\"Frequency of Images in train-test split\", color = \"purple\")\n",
        "plt.xlabel(\"Train and Test data\", color = \"purple\")\n",
        "plt.ylabel(\"Frequency count of data\", color = \"purple\")\n",
        "\n",
        "plt.xticks(color = \"red\")\n",
        "plt.yticks(color = \"red\")\n",
        "\n",
        "for index,value in enumerate(y):\n",
        "  plt.text(index,value,s = str(value))\n",
        "plt.show()"
      ],
      "metadata": {
        "colab": {
          "base_uri": "https://localhost:8080/",
          "height": 366
        },
        "id": "uQCZHJQ_zHI2",
        "outputId": "d278f635-d40f-418a-8b92-2228c0c86b8e"
      },
      "id": "uQCZHJQ_zHI2",
      "execution_count": 15,
      "outputs": [
        {
          "output_type": "display_data",
          "data": {
            "text/plain": [
              "<Figure size 288x288 with 1 Axes>"
            ],
            "image/png": "[encoded data removed]"
          },
          "metadata": {
            "needs_background": "light"
          }
        }
      ]
    },
    {
      "cell_type": "code",
      "source": [
        "import numpy as np\n",
        "d = dict(data[\"classname\"].value_counts())\n",
        "categories = list(d.keys())\n",
        "values_count = list(d.values())\n",
        "\n",
        "classname_details = { \n",
        "              \"c0\" : \"Normal Driving by Driver\",\n",
        "              \"c1\" : \"Texting on mobile using Right Hand\",\n",
        "              \"c2\" : \"Talking on the phone using right hand\",\n",
        "              \"c3\" : \"Texting on mobile using Left Hand\",\n",
        "              \"c4\" : \"Talking on the phone using Left hand\",\n",
        "              \"c5\" : \"Operating on the radio\",\n",
        "              \"c6\" : \"Drinking\",\n",
        "              \"c7\" : \"Reaching behind\",\n",
        "              \"c8\" : \"Hair and Makeup\",\n",
        "              \"c9\" : \"Talking to Passenger\"\n",
        "             }\n",
        "\n",
        "for i in range(len(categories)):\n",
        "  categories[i] = classname_details[categories[i]]\n",
        "\n",
        "plt.figure(figsize = (7,7))\n",
        "\n",
        "plt.bar(categories,values_count,width = 0.5,align = \"edge\",color = \"blue\")\n",
        "\n",
        "plt.title(\"Frequency of Images in train categories\", color = \"purple\")\n",
        "plt.xlabel(\"Train categories\", color = \"purple\")\n",
        "plt.ylabel(\"Frequency count of images in train categories\", color = \"purple\")\n",
        "\n",
        "for index,value in enumerate(values_count):\n",
        "  plt.text(index,value,s = str(value))\n",
        "\n",
        "plt.xticks(rotation = 75,color = \"red\")\n",
        "plt.yticks(color = \"red\")\n",
        "plt.show()\n"
      ],
      "metadata": {
        "colab": {
          "base_uri": "https://localhost:8080/",
          "height": 634
        },
        "id": "Wx1SrRe_zOoW",
        "outputId": "3c7797ad-e84f-4505-bc53-bf9cde1083a0"
      },
      "id": "Wx1SrRe_zOoW",
      "execution_count": 16,
      "outputs": [
        {
          "output_type": "display_data",
          "data": {
            "text/plain": [
              "<Figure size 504x504 with 1 Axes>"
            ],
            "image/png": "[encoded data removed]"
          },
          "metadata": {
            "needs_background": "light"
          }
        }
      ]
    },
    {
      "cell_type": "markdown",
      "id": "b905928e",
      "metadata": {
        "papermill": {
          "duration": 0.008956,
          "end_time": "2023-02-01T12:51:00.187829",
          "exception": false,
          "start_time": "2023-02-01T12:51:00.178873",
          "status": "completed"
        },
        "tags": [],
        "id": "b905928e"
      },
      "source": [
        "# Preparing Inputs for Models"
      ]
    },
    {
      "cell_type": "code",
      "execution_count": 10,
      "id": "b421dfef",
      "metadata": {
        "execution": {
          "iopub.execute_input": "2023-02-01T12:51:00.209404Z",
          "iopub.status.busy": "2023-02-01T12:51:00.208252Z",
          "iopub.status.idle": "2023-02-01T12:51:00.215501Z",
          "shell.execute_reply": "2023-02-01T12:51:00.214326Z"
        },
        "papermill": {
          "duration": 0.020535,
          "end_time": "2023-02-01T12:51:00.217829",
          "exception": false,
          "start_time": "2023-02-01T12:51:00.197294",
          "status": "completed"
        },
        "tags": [],
        "id": "b421dfef"
      },
      "outputs": [],
      "source": [
        "from tqdm import tqdm\n",
        "def loadbatchImages(path):\n",
        "    cat_list = listdir(path)    # Folder names of diiferent categories like c0,c1,c2....\n",
        "    loadImages = []\n",
        "    loadlabels = []\n",
        "    for cat_folder in cat_list: # Iterating over list of category folders\n",
        "        img_path = path + \"/\" + cat_folder  # getting the path of images of particular category folder\n",
        "        images_list = listdir(img_path)  # Getting the name of images\n",
        "        for img_name in tqdm(images_list):\n",
        "            single_image_path = img_path +\"/\"+ img_name  # Getting the path of single image\n",
        "            loadImages.append(single_image_path)  # loading the paths of all the images in that category into a list\n",
        "            loadlabels.append(int(cat_folder[1:])) # loading the category name of that image with only its digits like 0,1,2....\n",
        "            \n",
        "    return loadImages,loadlabels"
      ]
    },
    {
      "cell_type": "code",
      "execution_count": 11,
      "id": "632fc4bf",
      "metadata": {
        "execution": {
          "iopub.execute_input": "2023-02-01T12:51:00.239181Z",
          "iopub.status.busy": "2023-02-01T12:51:00.238128Z",
          "iopub.status.idle": "2023-02-01T12:51:01.314203Z",
          "shell.execute_reply": "2023-02-01T12:51:01.313050Z"
        },
        "papermill": {
          "duration": 1.089486,
          "end_time": "2023-02-01T12:51:01.316699",
          "exception": false,
          "start_time": "2023-02-01T12:51:00.227213",
          "status": "completed"
        },
        "tags": [],
        "colab": {
          "base_uri": "https://localhost:8080/"
        },
        "id": "632fc4bf",
        "outputId": "4dd10c2c-cc04-406d-ebe6-607226da6015"
      },
      "outputs": [
        {
          "output_type": "stream",
          "name": "stderr",
          "text": [
            "100%|██████████| 2002/2002 [00:00<00:00, 750535.99it/s]\n",
            "100%|██████████| 2317/2317 [00:00<00:00, 870806.66it/s]\n",
            "100%|██████████| 2346/2346 [00:00<00:00, 957462.02it/s]\n",
            "100%|██████████| 2267/2267 [00:00<00:00, 785241.32it/s]\n",
            "100%|██████████| 2312/2312 [00:00<00:00, 732862.07it/s]\n",
            "100%|██████████| 2489/2489 [00:00<00:00, 890372.93it/s]\n",
            "100%|██████████| 2325/2325 [00:00<00:00, 692252.20it/s]\n",
            "100%|██████████| 2326/2326 [00:00<00:00, 769700.28it/s]\n",
            "100%|██████████| 1911/1911 [00:00<00:00, 798020.21it/s]\n",
            "100%|██████████| 2129/2129 [00:00<00:00, 742530.62it/s]\n"
          ]
        }
      ],
      "source": [
        "loadImages,loadlabels = loadbatchImages(train_path)"
      ]
    },
    {
      "cell_type": "markdown",
      "id": "dc6bfd94",
      "metadata": {
        "papermill": {
          "duration": 0.010612,
          "end_time": "2023-02-01T12:51:01.338367",
          "exception": false,
          "start_time": "2023-02-01T12:51:01.327755",
          "status": "completed"
        },
        "tags": [],
        "id": "dc6bfd94"
      },
      "source": [
        "# Getting the number of classes"
      ]
    },
    {
      "cell_type": "code",
      "execution_count": 12,
      "id": "fd5c76c4",
      "metadata": {
        "execution": {
          "iopub.execute_input": "2023-02-01T12:51:01.363239Z",
          "iopub.status.busy": "2023-02-01T12:51:01.361404Z",
          "iopub.status.idle": "2023-02-01T12:51:01.369980Z",
          "shell.execute_reply": "2023-02-01T12:51:01.368991Z"
        },
        "papermill": {
          "duration": 0.023022,
          "end_time": "2023-02-01T12:51:01.372385",
          "exception": false,
          "start_time": "2023-02-01T12:51:01.349363",
          "status": "completed"
        },
        "tags": [],
        "id": "fd5c76c4"
      },
      "outputs": [],
      "source": [
        "num_classes = len(np.unique(loadlabels)) # getting the number of classes(categories)"
      ]
    },
    {
      "cell_type": "code",
      "execution_count": 13,
      "id": "8a7c9122",
      "metadata": {
        "execution": {
          "iopub.execute_input": "2023-02-01T12:51:01.396364Z",
          "iopub.status.busy": "2023-02-01T12:51:01.395986Z",
          "iopub.status.idle": "2023-02-01T12:51:01.402034Z",
          "shell.execute_reply": "2023-02-01T12:51:01.401139Z"
        },
        "papermill": {
          "duration": 0.020542,
          "end_time": "2023-02-01T12:51:01.403983",
          "exception": false,
          "start_time": "2023-02-01T12:51:01.383441",
          "status": "completed"
        },
        "tags": [],
        "colab": {
          "base_uri": "https://localhost:8080/"
        },
        "id": "8a7c9122",
        "outputId": "3b431fb0-99c2-4e64-de27-53d15dee5ad4"
      },
      "outputs": [
        {
          "output_type": "execute_result",
          "data": {
            "text/plain": [
              "10"
            ]
          },
          "metadata": {},
          "execution_count": 13
        }
      ],
      "source": [
        "num_classes  # Here we have 10 classes like c0,c1,c2,c3....c9"
      ]
    },
    {
      "cell_type": "markdown",
      "id": "5771be0b",
      "metadata": {
        "papermill": {
          "duration": 0.010807,
          "end_time": "2023-02-01T12:51:01.425478",
          "exception": false,
          "start_time": "2023-02-01T12:51:01.414671",
          "status": "completed"
        },
        "tags": [],
        "id": "5771be0b"
      },
      "source": [
        "# Here we are doing One Hot Encodings of different categories"
      ]
    },
    {
      "cell_type": "code",
      "execution_count": 14,
      "id": "022841b8",
      "metadata": {
        "execution": {
          "iopub.execute_input": "2023-02-01T12:51:01.449320Z",
          "iopub.status.busy": "2023-02-01T12:51:01.448936Z",
          "iopub.status.idle": "2023-02-01T12:51:06.890611Z",
          "shell.execute_reply": "2023-02-01T12:51:06.889564Z"
        },
        "papermill": {
          "duration": 5.45678,
          "end_time": "2023-02-01T12:51:06.893355",
          "exception": false,
          "start_time": "2023-02-01T12:51:01.436575",
          "status": "completed"
        },
        "tags": [],
        "id": "022841b8"
      },
      "outputs": [],
      "source": [
        "from keras.utils.np_utils import to_categorical\n",
        "\n",
        "labelsHot = to_categorical(loadlabels,num_classes = num_classes) # here we are converting the list into one hot encoding\n",
        "                                       # like [0,1,2....] => [[1,0,0,0,0,0,0,0,0,0],......] "
      ]
    },
    {
      "cell_type": "markdown",
      "id": "a140624a",
      "metadata": {
        "papermill": {
          "duration": 0.01084,
          "end_time": "2023-02-01T12:51:06.915587",
          "exception": false,
          "start_time": "2023-02-01T12:51:06.904747",
          "status": "completed"
        },
        "tags": [],
        "id": "a140624a"
      },
      "source": [
        "# Creating DataFrames for Data Generators"
      ]
    },
    {
      "cell_type": "code",
      "execution_count": 15,
      "id": "acad4f0f",
      "metadata": {
        "execution": {
          "iopub.execute_input": "2023-02-01T12:51:06.939359Z",
          "iopub.status.busy": "2023-02-01T12:51:06.938750Z",
          "iopub.status.idle": "2023-02-01T12:51:06.960465Z",
          "shell.execute_reply": "2023-02-01T12:51:06.959504Z"
        },
        "papermill": {
          "duration": 0.036215,
          "end_time": "2023-02-01T12:51:06.962892",
          "exception": false,
          "start_time": "2023-02-01T12:51:06.926677",
          "status": "completed"
        },
        "tags": [],
        "id": "acad4f0f"
      },
      "outputs": [],
      "source": [
        "dataset = pd.DataFrame()\n",
        "dataset[\"path\"] = loadImages\n",
        "dataset[\"labels\"] = list(labelsHot)"
      ]
    },
    {
      "cell_type": "code",
      "execution_count": 16,
      "id": "ba9ec098",
      "metadata": {
        "execution": {
          "iopub.execute_input": "2023-02-01T12:51:06.987119Z",
          "iopub.status.busy": "2023-02-01T12:51:06.986749Z",
          "iopub.status.idle": "2023-02-01T12:51:06.993303Z",
          "shell.execute_reply": "2023-02-01T12:51:06.992381Z"
        },
        "papermill": {
          "duration": 0.021106,
          "end_time": "2023-02-01T12:51:06.995361",
          "exception": false,
          "start_time": "2023-02-01T12:51:06.974255",
          "status": "completed"
        },
        "tags": [],
        "colab": {
          "base_uri": "https://localhost:8080/",
          "height": 35
        },
        "id": "ba9ec098",
        "outputId": "725c4462-119a-45dd-96bf-a94c6171747a"
      },
      "outputs": [
        {
          "output_type": "execute_result",
          "data": {
            "text/plain": [
              "'/content/imgs/train/c7/img_90609.jpg'"
            ],
            "application/vnd.google.colaboratory.intrinsic+json": {
              "type": "string"
            }
          },
          "metadata": {},
          "execution_count": 16
        }
      ],
      "source": [
        "dataset.path[0]"
      ]
    },
    {
      "cell_type": "markdown",
      "id": "625fb3ee",
      "metadata": {
        "papermill": {
          "duration": 0.01102,
          "end_time": "2023-02-01T12:51:07.017755",
          "exception": false,
          "start_time": "2023-02-01T12:51:07.006735",
          "status": "completed"
        },
        "tags": [],
        "id": "625fb3ee"
      },
      "source": [
        "# Creating data Generators - Data Augmentation"
      ]
    },
    {
      "cell_type": "code",
      "execution_count": 17,
      "id": "8c3aec72",
      "metadata": {
        "execution": {
          "iopub.execute_input": "2023-02-01T12:51:07.043659Z",
          "iopub.status.busy": "2023-02-01T12:51:07.041591Z",
          "iopub.status.idle": "2023-02-01T12:51:07.048961Z",
          "shell.execute_reply": "2023-02-01T12:51:07.047950Z"
        },
        "papermill": {
          "duration": 0.021928,
          "end_time": "2023-02-01T12:51:07.051065",
          "exception": false,
          "start_time": "2023-02-01T12:51:07.029137",
          "status": "completed"
        },
        "tags": [],
        "id": "8c3aec72"
      },
      "outputs": [],
      "source": [
        "from keras.preprocessing.image import ImageDataGenerator\n",
        "Img_size = (128,128)  # Converting Image size to 128*128 for processing because larger size images cant be process easily\n",
        "data_gen = ImageDataGenerator(samplewise_center = True,\n",
        "                              samplewise_std_normalization = True,\n",
        "                              horizontal_flip = True,\n",
        "                              vertical_flip = False,\n",
        "                              height_shift_range = 0.05,\n",
        "                              width_shift_range = 0.1,\n",
        "                              rotation_range = 5,\n",
        "                              shear_range = 0.1,\n",
        "                              fill_mode = \"reflect\",\n",
        "                              zoom_range = 0.15\n",
        "                             )"
      ]
    },
    {
      "cell_type": "code",
      "execution_count": 18,
      "id": "0dcd399d",
      "metadata": {
        "execution": {
          "iopub.execute_input": "2023-02-01T12:51:07.074845Z",
          "iopub.status.busy": "2023-02-01T12:51:07.074476Z",
          "iopub.status.idle": "2023-02-01T12:51:07.082106Z",
          "shell.execute_reply": "2023-02-01T12:51:07.081024Z"
        },
        "papermill": {
          "duration": 0.022053,
          "end_time": "2023-02-01T12:51:07.084230",
          "exception": false,
          "start_time": "2023-02-01T12:51:07.062177",
          "status": "completed"
        },
        "tags": [],
        "id": "0dcd399d"
      },
      "outputs": [],
      "source": [
        "import os\n",
        "def flow_from_dataframe(data_gen,dataset,path_col,y_col,**dataflow_args):\n",
        "    base_dir = os.path.dirname(dataset[path_col].values[0])\n",
        "#     print(base_dir)\n",
        "    print(\"# Ignore next message from keras,values are replaced anyways\")\n",
        "    \n",
        "    df_gen = data_gen.flow_from_directory(base_dir,class_mode = \"sparse\",**dataflow_args)\n",
        "    \n",
        "    df_gen.filenames = dataset[path_col].values\n",
        "    df_gen.classes = np.array([np.argmax(i) for i in dataset[y_col].values])\n",
        "#     print(type(df_gen.classes))\n",
        "    df_gen.samples = dataset.shape[0]\n",
        "    df_gen.n = dataset.shape[0]\n",
        "    df_gen._set_index_array()\n",
        "    df_gen.directory = \"\"  # since we have full path\n",
        "    df_gen.filepaths.extend(df_gen.filenames.tolist())\n",
        "#     print(len(df_gen.filepaths))\n",
        "\n",
        "    print(f\"Reinserting dataframe: '{dataset.shape[0]}' images\")\n",
        "    \n",
        "    return df_gen"
      ]
    },
    {
      "cell_type": "code",
      "execution_count": 19,
      "id": "55b6546d",
      "metadata": {
        "execution": {
          "iopub.execute_input": "2023-02-01T12:51:07.108928Z",
          "iopub.status.busy": "2023-02-01T12:51:07.108572Z",
          "iopub.status.idle": "2023-02-01T12:51:07.935229Z",
          "shell.execute_reply": "2023-02-01T12:51:07.934150Z"
        },
        "papermill": {
          "duration": 0.842107,
          "end_time": "2023-02-01T12:51:07.938051",
          "exception": false,
          "start_time": "2023-02-01T12:51:07.095944",
          "status": "completed"
        },
        "tags": [],
        "id": "55b6546d"
      },
      "outputs": [],
      "source": [
        "from sklearn.model_selection import train_test_split\n",
        "train_data,test_data = train_test_split(dataset,test_size = 0.25,random_state = 2018)"
      ]
    },
    {
      "cell_type": "code",
      "execution_count": 20,
      "id": "7fe3234f",
      "metadata": {
        "execution": {
          "iopub.execute_input": "2023-02-01T12:51:07.962202Z",
          "iopub.status.busy": "2023-02-01T12:51:07.961196Z",
          "iopub.status.idle": "2023-02-01T12:51:45.630764Z",
          "shell.execute_reply": "2023-02-01T12:51:45.629727Z"
        },
        "papermill": {
          "duration": 37.684345,
          "end_time": "2023-02-01T12:51:45.633447",
          "exception": false,
          "start_time": "2023-02-01T12:51:07.949102",
          "status": "completed"
        },
        "tags": [],
        "colab": {
          "base_uri": "https://localhost:8080/"
        },
        "id": "7fe3234f",
        "outputId": "b49f501e-04a8-4a17-9f15-82874e8706d7"
      },
      "outputs": [
        {
          "output_type": "stream",
          "name": "stdout",
          "text": [
            "# Ignore next message from keras,values are replaced anyways\n",
            "Found 0 images belonging to 0 classes.\n",
            "Reinserting dataframe: '16818' images\n",
            "# Ignore next message from keras,values are replaced anyways\n",
            "Found 0 images belonging to 0 classes.\n",
            "Reinserting dataframe: '5606' images\n",
            "# Ignore next message from keras,values are replaced anyways\n",
            "Found 0 images belonging to 0 classes.\n",
            "Reinserting dataframe: '5606' images\n"
          ]
        }
      ],
      "source": [
        "train_gen = flow_from_dataframe(data_gen,\n",
        "                                train_data,\n",
        "                                path_col = \"path\",\n",
        "                                y_col = \"labels\",\n",
        "                                target_size = Img_size,\n",
        "                                batch_size = 32)\n",
        "\n",
        "\n",
        "test_gen = flow_from_dataframe(data_gen,\n",
        "                               test_data,\n",
        "                               path_col = \"path\",\n",
        "                               y_col = \"labels\",\n",
        "                               target_size = Img_size,\n",
        "                               batch_size = 256\n",
        "                              ) # we can use larger batches for evaluation because we have larger test images\n",
        "\n",
        "# Taking a larger slice of images of test just for evaluation of our model\n",
        "x_test,y_test = flow_from_dataframe(data_gen,\n",
        "                                    test_data,\n",
        "                                    path_col = \"path\",\n",
        "                                    y_col = \"labels\",\n",
        "                                    target_size = Img_size,\n",
        "                                    batch_size = 2048\n",
        "                                        ).__next__()\n",
        "                    "
      ]
    },
    {
      "cell_type": "code",
      "execution_count": 21,
      "id": "410e0742",
      "metadata": {
        "execution": {
          "iopub.execute_input": "2023-02-01T12:51:45.657726Z",
          "iopub.status.busy": "2023-02-01T12:51:45.657351Z",
          "iopub.status.idle": "2023-02-01T12:51:46.170498Z",
          "shell.execute_reply": "2023-02-01T12:51:46.169491Z"
        },
        "papermill": {
          "duration": 0.528012,
          "end_time": "2023-02-01T12:51:46.172961",
          "exception": false,
          "start_time": "2023-02-01T12:51:45.644949",
          "status": "completed"
        },
        "tags": [],
        "id": "410e0742"
      },
      "outputs": [],
      "source": [
        "t_x,t_y = next(train_gen)"
      ]
    },
    {
      "cell_type": "code",
      "execution_count": 22,
      "id": "8d97056e",
      "metadata": {
        "execution": {
          "iopub.execute_input": "2023-02-01T12:51:46.198648Z",
          "iopub.status.busy": "2023-02-01T12:51:46.196829Z",
          "iopub.status.idle": "2023-02-01T12:51:46.204406Z",
          "shell.execute_reply": "2023-02-01T12:51:46.203349Z"
        },
        "papermill": {
          "duration": 0.022894,
          "end_time": "2023-02-01T12:51:46.207069",
          "exception": false,
          "start_time": "2023-02-01T12:51:46.184175",
          "status": "completed"
        },
        "tags": [],
        "colab": {
          "base_uri": "https://localhost:8080/"
        },
        "id": "8d97056e",
        "outputId": "6cc05c32-0209-4af9-d93f-f1a05fd35aad"
      },
      "outputs": [
        {
          "output_type": "execute_result",
          "data": {
            "text/plain": [
              "(128, 128, 3)"
            ]
          },
          "metadata": {},
          "execution_count": 22
        }
      ],
      "source": [
        "t_x.shape[1:]"
      ]
    },
    {
      "cell_type": "markdown",
      "id": "22916ee0",
      "metadata": {
        "papermill": {
          "duration": 0.011336,
          "end_time": "2023-02-01T12:51:46.230422",
          "exception": false,
          "start_time": "2023-02-01T12:51:46.219086",
          "status": "completed"
        },
        "tags": [],
        "id": "22916ee0"
      },
      "source": [
        "# Creating Pretrained model VGG16"
      ]
    },
    {
      "cell_type": "code",
      "execution_count": 23,
      "id": "249740dc",
      "metadata": {
        "execution": {
          "iopub.execute_input": "2023-02-01T12:51:46.255054Z",
          "iopub.status.busy": "2023-02-01T12:51:46.254170Z",
          "iopub.status.idle": "2023-02-01T12:51:46.265592Z",
          "shell.execute_reply": "2023-02-01T12:51:46.264618Z"
        },
        "papermill": {
          "duration": 0.026239,
          "end_time": "2023-02-01T12:51:46.268014",
          "exception": false,
          "start_time": "2023-02-01T12:51:46.241775",
          "status": "completed"
        },
        "tags": [],
        "id": "249740dc"
      },
      "outputs": [],
      "source": [
        "from keras.applications.vgg16 import VGG16\n",
        "from keras.applications.vgg16 import preprocess_input\n",
        "\n",
        "import keras \n",
        "from keras import backend as K\n",
        "from keras.callbacks import Callback, EarlyStopping, ReduceLROnPlateau, ModelCheckpoint\n",
        "from keras.utils.np_utils import to_categorical\n",
        "from keras.models import Model, Sequential,model_from_json,load_model\n",
        "from tensorflow.keras.optimizers import SGD, RMSprop, Adam, Adagrad,Adadelta\n",
        "from keras.layers import Dense, Dropout, Activation, Flatten, BatchNormalization, Conv2D, MaxPooling2D\n",
        "%matplotlib inline"
      ]
    },
    {
      "cell_type": "code",
      "execution_count": 24,
      "id": "e650697d",
      "metadata": {
        "execution": {
          "iopub.execute_input": "2023-02-01T12:51:46.292262Z",
          "iopub.status.busy": "2023-02-01T12:51:46.291912Z",
          "iopub.status.idle": "2023-02-01T12:51:50.005334Z",
          "shell.execute_reply": "2023-02-01T12:51:50.002835Z"
        },
        "papermill": {
          "duration": 3.728191,
          "end_time": "2023-02-01T12:51:50.007693",
          "exception": false,
          "start_time": "2023-02-01T12:51:46.279502",
          "status": "completed"
        },
        "tags": [],
        "colab": {
          "base_uri": "https://localhost:8080/"
        },
        "id": "e650697d",
        "outputId": "f485af97-f336-4771-d52b-bf09f9b8bec1"
      },
      "outputs": [
        {
          "output_type": "stream",
          "name": "stdout",
          "text": [
            "Downloading data from https://storage.googleapis.com/tensorflow/keras-applications/vgg16/vgg16_weights_tf_dim_ordering_tf_kernels_notop.h5\n",
            "58889256/58889256 [==============================] - 3s 0us/step\n",
            "Model: \"model\"\n",
            "_________________________________________________________________\n",
            " Layer (type)                Output Shape              Param #   \n",
            "=================================================================\n",
            " input_1 (InputLayer)        [(None, 128, 128, 3)]     0         \n",
            "                                                                 \n",
            " block1_conv1 (Conv2D)       (None, 128, 128, 64)      1792      \n",
            "                                                                 \n",
            " block1_conv2 (Conv2D)       (None, 128, 128, 64)      36928     \n",
            "                                                                 \n",
            " block1_pool (MaxPooling2D)  (None, 64, 64, 64)        0         \n",
            "                                                                 \n",
            " block2_conv1 (Conv2D)       (None, 64, 64, 128)       73856     \n",
            "                                                                 \n",
            " block2_conv2 (Conv2D)       (None, 64, 64, 128)       147584    \n",
            "                                                                 \n",
            " block2_pool (MaxPooling2D)  (None, 32, 32, 128)       0         \n",
            "                                                                 \n",
            " block3_conv1 (Conv2D)       (None, 32, 32, 256)       295168    \n",
            "                                                                 \n",
            " block3_conv2 (Conv2D)       (None, 32, 32, 256)       590080    \n",
            "                                                                 \n",
            " block3_conv3 (Conv2D)       (None, 32, 32, 256)       590080    \n",
            "                                                                 \n",
            " block3_pool (MaxPooling2D)  (None, 16, 16, 256)       0         \n",
            "                                                                 \n",
            " block4_conv1 (Conv2D)       (None, 16, 16, 512)       1180160   \n",
            "                                                                 \n",
            " block4_conv2 (Conv2D)       (None, 16, 16, 512)       2359808   \n",
            "                                                                 \n",
            " block4_conv3 (Conv2D)       (None, 16, 16, 512)       2359808   \n",
            "                                                                 \n",
            " block4_pool (MaxPooling2D)  (None, 8, 8, 512)         0         \n",
            "                                                                 \n",
            " block5_conv1 (Conv2D)       (None, 8, 8, 512)         2359808   \n",
            "                                                                 \n",
            " block5_conv2 (Conv2D)       (None, 8, 8, 512)         2359808   \n",
            "                                                                 \n",
            " block5_conv3 (Conv2D)       (None, 8, 8, 512)         2359808   \n",
            "                                                                 \n",
            " block5_pool (MaxPooling2D)  (None, 4, 4, 512)         0         \n",
            "                                                                 \n",
            " conv2d (Conv2D)             (None, 2, 2, 100)         460900    \n",
            "                                                                 \n",
            " flatten (Flatten)           (None, 400)               0         \n",
            "                                                                 \n",
            " dropout (Dropout)           (None, 400)               0         \n",
            "                                                                 \n",
            " dense (Dense)               (None, 10)                4010      \n",
            "                                                                 \n",
            "=================================================================\n",
            "Total params: 15,179,598\n",
            "Trainable params: 464,910\n",
            "Non-trainable params: 14,714,688\n",
            "_________________________________________________________________\n"
          ]
        }
      ],
      "source": [
        "pretrained_model = VGG16(include_top = False,input_shape = t_x.shape[1:])\n",
        "base_model = pretrained_model # Topless\n",
        "optimizer1 = Adam()\n",
        "# Add top layers\n",
        "x = base_model.output\n",
        "x = Conv2D(100, kernel_size = (3,3),padding = 'valid')(x)\n",
        "x = Flatten()(x)\n",
        "x = Dropout(0.75)(x)\n",
        "dense_1 = Dense(num_classes,activation = \"softmax\")(x)\n",
        "model = Model(inputs = base_model.input,outputs = dense_1)\n",
        "# Train Top layer\n",
        "for layer in base_model.layers:   # Here this code of lines tells that we don't need to train the weights of VGG16 models\n",
        "    layer.trainable = False \n",
        "\n",
        "model.compile(loss = \"sparse_categorical_crossentropy\",optimizer = optimizer1,metrics =[\"accuracy\"])\n",
        "model.summary()"
      ]
    },
    {
      "cell_type": "code",
      "execution_count": 25,
      "id": "6586a515",
      "metadata": {
        "execution": {
          "iopub.execute_input": "2023-02-01T12:51:50.036030Z",
          "iopub.status.busy": "2023-02-01T12:51:50.033797Z",
          "iopub.status.idle": "2023-02-01T13:01:25.897500Z",
          "shell.execute_reply": "2023-02-01T13:01:25.896347Z"
        },
        "papermill": {
          "duration": 575.879804,
          "end_time": "2023-02-01T13:01:25.899948",
          "exception": false,
          "start_time": "2023-02-01T12:51:50.020144",
          "status": "completed"
        },
        "tags": [],
        "colab": {
          "base_uri": "https://localhost:8080/"
        },
        "id": "6586a515",
        "outputId": "cf87c7fc-54c7-40a6-811d-7873b0e792a4"
      },
      "outputs": [
        {
          "output_type": "stream",
          "name": "stdout",
          "text": [
            "Epoch 1/10\n",
            "100/100 [==============================] - 47s 377ms/step - loss: 3.1734 - accuracy: 0.2841 - val_loss: 1.1628 - val_accuracy: 0.6426\n",
            "Epoch 2/10\n",
            "100/100 [==============================] - 35s 355ms/step - loss: 1.8209 - accuracy: 0.5072 - val_loss: 0.6673 - val_accuracy: 0.7896\n",
            "Epoch 3/10\n",
            "100/100 [==============================] - 33s 329ms/step - loss: 1.3724 - accuracy: 0.6019 - val_loss: 0.5007 - val_accuracy: 0.8408\n",
            "Epoch 4/10\n",
            "100/100 [==============================] - 33s 327ms/step - loss: 1.1170 - accuracy: 0.6703 - val_loss: 0.4478 - val_accuracy: 0.8594\n",
            "Epoch 5/10\n",
            "100/100 [==============================] - 35s 355ms/step - loss: 0.9489 - accuracy: 0.7122 - val_loss: 0.4133 - val_accuracy: 0.8691\n",
            "Epoch 6/10\n",
            "100/100 [==============================] - 34s 341ms/step - loss: 0.9118 - accuracy: 0.7197 - val_loss: 0.3843 - val_accuracy: 0.8711\n",
            "Epoch 7/10\n",
            "100/100 [==============================] - 35s 346ms/step - loss: 0.9713 - accuracy: 0.7147 - val_loss: 0.3513 - val_accuracy: 0.8887\n",
            "Epoch 8/10\n",
            "100/100 [==============================] - 35s 346ms/step - loss: 0.8344 - accuracy: 0.7495 - val_loss: 0.4680 - val_accuracy: 0.8403\n",
            "Epoch 9/10\n",
            "100/100 [==============================] - 33s 326ms/step - loss: 0.7508 - accuracy: 0.7744 - val_loss: 0.3095 - val_accuracy: 0.9058\n",
            "Epoch 10/10\n",
            "100/100 [==============================] - 32s 323ms/step - loss: 0.6839 - accuracy: 0.7891 - val_loss: 0.2658 - val_accuracy: 0.9194\n"
          ]
        },
        {
          "output_type": "execute_result",
          "data": {
            "text/plain": [
              "<keras.callbacks.History at 0x7fa04076aa00>"
            ]
          },
          "metadata": {},
          "execution_count": 25
        }
      ],
      "source": [
        "model.fit(train_gen,steps_per_epoch = 100,validation_data = (x_test,y_test),epochs = 10)"
      ]
    },
    {
      "cell_type": "code",
      "source": [
        "model.save(\"/content/drive/MyDrive/Distracted_Driver_Detection/model.h5\")"
      ],
      "metadata": {
        "id": "nscUDTe9jTq6"
      },
      "id": "nscUDTe9jTq6",
      "execution_count": 32,
      "outputs": []
    },
    {
      "cell_type": "markdown",
      "source": [
        "# For Evaluation of model"
      ],
      "metadata": {
        "id": "lRJ9aT1kcTI0"
      },
      "id": "lRJ9aT1kcTI0"
    },
    {
      "cell_type": "code",
      "source": [
        "y_test"
      ],
      "metadata": {
        "colab": {
          "base_uri": "https://localhost:8080/"
        },
        "id": "m08gHZF2drkB",
        "outputId": "b437220b-d273-4fd8-8283-5b31403aacc2"
      },
      "id": "m08gHZF2drkB",
      "execution_count": 35,
      "outputs": [
        {
          "output_type": "execute_result",
          "data": {
            "text/plain": [
              "array([2., 5., 0., ..., 2., 8., 4.], dtype=float32)"
            ]
          },
          "metadata": {},
          "execution_count": 35
        }
      ]
    },
    {
      "cell_type": "code",
      "source": [
        "predictions = []\n",
        "pred = model.predict(x_test)\n",
        "for i in pred:\n",
        "  predictions.append(np.argmax(i))\n"
      ],
      "metadata": {
        "id": "IZJScqmBcSyn"
      },
      "id": "IZJScqmBcSyn",
      "execution_count": null,
      "outputs": []
    },
    {
      "cell_type": "code",
      "source": [
        "from sklearn.metrics import confusion_matrix,classification_report\n",
        "cm = confusion_matrix(y_test,predictions)\n",
        "cr = classification_report(y_test,predictions)\n",
        "print(cm)\n",
        "print(cr)"
      ],
      "metadata": {
        "colab": {
          "base_uri": "https://localhost:8080/"
        },
        "id": "Y2LARKwvd3Hh",
        "outputId": "1b65b0c7-21e0-4f5a-a4e1-a5eaac951352"
      },
      "id": "Y2LARKwvd3Hh",
      "execution_count": 37,
      "outputs": [
        {
          "output_type": "stream",
          "name": "stdout",
          "text": [
            "[[213   3   1   4   2   4   0   1   1  18]\n",
            " [  0 216   0   2   0   1   0   1   1   1]\n",
            " [  0   4 224   0   0   0   1   0   2   2]\n",
            " [  4   0   0 194   7   0   1   0   0   3]\n",
            " [  0   0   2   6 151   0   0   0   1   7]\n",
            " [  3   1   1   0   0 200   0   0   1   1]\n",
            " [  1   7   4   0   1   0 198   1   9   1]\n",
            " [  0   0   0   2   0   0   0 166   1   2]\n",
            " [  3   1  10   1   2   0   2   4 145   8]\n",
            " [ 11   1   0   2   1   2   0   0   1 176]]\n",
            "              precision    recall  f1-score   support\n",
            "\n",
            "         0.0       0.91      0.86      0.88       247\n",
            "         1.0       0.93      0.97      0.95       222\n",
            "         2.0       0.93      0.96      0.94       233\n",
            "         3.0       0.92      0.93      0.92       209\n",
            "         4.0       0.92      0.90      0.91       167\n",
            "         5.0       0.97      0.97      0.97       207\n",
            "         6.0       0.98      0.89      0.93       222\n",
            "         7.0       0.96      0.97      0.97       171\n",
            "         8.0       0.90      0.82      0.86       176\n",
            "         9.0       0.80      0.91      0.85       194\n",
            "\n",
            "    accuracy                           0.92      2048\n",
            "   macro avg       0.92      0.92      0.92      2048\n",
            "weighted avg       0.92      0.92      0.92      2048\n",
            "\n"
          ]
        }
      ]
    },
    {
      "cell_type": "markdown",
      "source": [
        "# Preparing Test Data"
      ],
      "metadata": {
        "id": "SavOy2pVvida"
      },
      "id": "SavOy2pVvida"
    },
    {
      "cell_type": "code",
      "execution_count": 27,
      "id": "9fe1c39e",
      "metadata": {
        "execution": {
          "iopub.execute_input": "2023-02-01T13:01:26.038666Z",
          "iopub.status.busy": "2023-02-01T13:01:26.036317Z",
          "iopub.status.idle": "2023-02-01T13:01:26.263510Z",
          "shell.execute_reply": "2023-02-01T13:01:26.262499Z"
        },
        "papermill": {
          "duration": 0.298453,
          "end_time": "2023-02-01T13:01:26.265992",
          "exception": false,
          "start_time": "2023-02-01T13:01:25.967539",
          "status": "completed"
        },
        "tags": [],
        "id": "9fe1c39e"
      },
      "outputs": [],
      "source": [
        "from glob import glob\n",
        "test_image_paths = glob(\"/content/imgs/test/*.jpg\",recursive = True)"
      ]
    },
    {
      "cell_type": "code",
      "execution_count": 28,
      "id": "a9a726cc",
      "metadata": {
        "execution": {
          "iopub.execute_input": "2023-02-01T13:01:26.401835Z",
          "iopub.status.busy": "2023-02-01T13:01:26.400823Z",
          "iopub.status.idle": "2023-02-01T13:01:26.424832Z",
          "shell.execute_reply": "2023-02-01T13:01:26.423840Z"
        },
        "papermill": {
          "duration": 0.094125,
          "end_time": "2023-02-01T13:01:26.427416",
          "exception": false,
          "start_time": "2023-02-01T13:01:26.333291",
          "status": "completed"
        },
        "tags": [],
        "id": "a9a726cc"
      },
      "outputs": [],
      "source": [
        "X_test = pd.DataFrame()\n",
        "X_test[\"path\"] = test_image_paths"
      ]
    },
    {
      "cell_type": "code",
      "execution_count": 29,
      "id": "5f8b2e76",
      "metadata": {
        "execution": {
          "iopub.execute_input": "2023-02-01T13:01:26.563952Z",
          "iopub.status.busy": "2023-02-01T13:01:26.563586Z",
          "iopub.status.idle": "2023-02-01T13:01:26.570660Z",
          "shell.execute_reply": "2023-02-01T13:01:26.569388Z"
        },
        "papermill": {
          "duration": 0.07995,
          "end_time": "2023-02-01T13:01:26.574301",
          "exception": false,
          "start_time": "2023-02-01T13:01:26.494351",
          "status": "completed"
        },
        "tags": [],
        "colab": {
          "base_uri": "https://localhost:8080/",
          "height": 35
        },
        "id": "5f8b2e76",
        "outputId": "89fe8abd-81a7-474f-c202-60f763b96e83"
      },
      "outputs": [
        {
          "output_type": "execute_result",
          "data": {
            "text/plain": [
              "'/content/imgs/test/img_100551.jpg'"
            ],
            "application/vnd.google.colaboratory.intrinsic+json": {
              "type": "string"
            }
          },
          "metadata": {},
          "execution_count": 29
        }
      ],
      "source": [
        "X_test[\"path\"][0]"
      ]
    },
    {
      "cell_type": "code",
      "execution_count": 30,
      "id": "e198a695",
      "metadata": {
        "execution": {
          "iopub.execute_input": "2023-02-01T13:01:26.778004Z",
          "iopub.status.busy": "2023-02-01T13:01:26.777510Z",
          "iopub.status.idle": "2023-02-01T13:01:27.510758Z",
          "shell.execute_reply": "2023-02-01T13:01:27.509511Z"
        },
        "papermill": {
          "duration": 0.872416,
          "end_time": "2023-02-01T13:01:27.513204",
          "exception": false,
          "start_time": "2023-02-01T13:01:26.640788",
          "status": "completed"
        },
        "tags": [],
        "id": "e198a695"
      },
      "outputs": [],
      "source": [
        "X_test[\"labels\"] = X_test[\"path\"].map(lambda x: os.path.basename(X_test[\"path\"][0]))"
      ]
    },
    {
      "cell_type": "code",
      "execution_count": 31,
      "id": "b4e92c62",
      "metadata": {
        "execution": {
          "iopub.execute_input": "2023-02-01T13:01:27.651867Z",
          "iopub.status.busy": "2023-02-01T13:01:27.650804Z",
          "iopub.status.idle": "2023-02-01T13:01:27.669374Z",
          "shell.execute_reply": "2023-02-01T13:01:27.668384Z"
        },
        "papermill": {
          "duration": 0.091248,
          "end_time": "2023-02-01T13:01:27.671824",
          "exception": false,
          "start_time": "2023-02-01T13:01:27.580576",
          "status": "completed"
        },
        "tags": [],
        "colab": {
          "base_uri": "https://localhost:8080/",
          "height": 206
        },
        "id": "b4e92c62",
        "outputId": "5e37dc04-907b-4848-a5af-6296ef98479d"
      },
      "outputs": [
        {
          "output_type": "execute_result",
          "data": {
            "text/plain": [
              "                                path          labels\n",
              "0  /content/imgs/test/img_100551.jpg  img_100551.jpg\n",
              "1   /content/imgs/test/img_39887.jpg  img_100551.jpg\n",
              "2   /content/imgs/test/img_80776.jpg  img_100551.jpg\n",
              "3   /content/imgs/test/img_38148.jpg  img_100551.jpg\n",
              "4    /content/imgs/test/img_4103.jpg  img_100551.jpg"
            ],
            "text/html": [
              "\n",
              "  <div id=\"df-ea5bf9e7-d826-411e-a7c7-4adf0ca31ff4\">\n",
              "    <div class=\"colab-df-container\">\n",
              "      <div>\n",
              "<style scoped>\n",
              "    .dataframe tbody tr th:only-of-type {\n",
              "        vertical-align: middle;\n",
              "    }\n",
              "\n",
              "    .dataframe tbody tr th {\n",
              "        vertical-align: top;\n",
              "    }\n",
              "\n",
              "    .dataframe thead th {\n",
              "        text-align: right;\n",
              "    }\n",
              "</style>\n",
              "<table border=\"1\" class=\"dataframe\">\n",
              "  <thead>\n",
              "    <tr style=\"text-align: right;\">\n",
              "      <th></th>\n",
              "      <th>path</th>\n",
              "      <th>labels</th>\n",
              "    </tr>\n",
              "  </thead>\n",
              "  <tbody>\n",
              "    <tr>\n",
              "      <th>0</th>\n",
              "      <td>/content/imgs/test/img_100551.jpg</td>\n",
              "      <td>img_100551.jpg</td>\n",
              "    </tr>\n",
              "    <tr>\n",
              "      <th>1</th>\n",
              "      <td>/content/imgs/test/img_39887.jpg</td>\n",
              "      <td>img_100551.jpg</td>\n",
              "    </tr>\n",
              "    <tr>\n",
              "      <th>2</th>\n",
              "      <td>/content/imgs/test/img_80776.jpg</td>\n",
              "      <td>img_100551.jpg</td>\n",
              "    </tr>\n",
              "    <tr>\n",
              "      <th>3</th>\n",
              "      <td>/content/imgs/test/img_38148.jpg</td>\n",
              "      <td>img_100551.jpg</td>\n",
              "    </tr>\n",
              "    <tr>\n",
              "      <th>4</th>\n",
              "      <td>/content/imgs/test/img_4103.jpg</td>\n",
              "      <td>img_100551.jpg</td>\n",
              "    </tr>\n",
              "  </tbody>\n",
              "</table>\n",
              "</div>\n",
              "      <button class=\"colab-df-convert\" onclick=\"convertToInteractive('df-ea5bf9e7-d826-411e-a7c7-4adf0ca31ff4')\"\n",
              "              title=\"Convert this dataframe to an interactive table.\"\n",
              "              style=\"display:none;\">\n",
              "        \n",
              "  <svg xmlns=\"http://www.w3.org/2000/svg\" height=\"24px\"viewBox=\"0 0 24 24\"\n",
              "       width=\"24px\">\n",
              "    <path d=\"M0 0h24v24H0V0z\" fill=\"none\"/>\n",
              "    <path d=\"M18.56 5.44l.94 2.06.94-2.06 2.06-.94-2.06-.94-.94-2.06-.94 2.06-2.06.94zm-11 1L8.5 8.5l.94-2.06 2.06-.94-2.06-.94L8.5 2.5l-.94 2.06-2.06.94zm10 10l.94 2.06.94-2.06 2.06-.94-2.06-.94-.94-2.06-.94 2.06-2.06.94z\"/><path d=\"M17.41 7.96l-1.37-1.37c-.4-.4-.92-.59-1.43-.59-.52 0-1.04.2-1.43.59L10.3 9.45l-7.72 7.72c-.78.78-.78 2.05 0 2.83L4 21.41c.39.39.9.59 1.41.59.51 0 1.02-.2 1.41-.59l7.78-7.78 2.81-2.81c.8-.78.8-2.07 0-2.86zM5.41 20L4 18.59l7.72-7.72 1.47 1.35L5.41 20z\"/>\n",
              "  </svg>\n",
              "      </button>\n",
              "      \n",
              "  <style>\n",
              "    .colab-df-container {\n",
              "      display:flex;\n",
              "      flex-wrap:wrap;\n",
              "      gap: 12px;\n",
              "    }\n",
              "\n",
              "    .colab-df-convert {\n",
              "      background-color: #E8F0FE;\n",
              "      border: none;\n",
              "      border-radius: 50%;\n",
              "      cursor: pointer;\n",
              "      display: none;\n",
              "      fill: #1967D2;\n",
              "      height: 32px;\n",
              "      padding: 0 0 0 0;\n",
              "      width: 32px;\n",
              "    }\n",
              "\n",
              "    .colab-df-convert:hover {\n",
              "      background-color: #E2EBFA;\n",
              "      box-shadow: 0px 1px 2px rgba(60, 64, 67, 0.3), 0px 1px 3px 1px rgba(60, 64, 67, 0.15);\n",
              "      fill: #174EA6;\n",
              "    }\n",
              "\n",
              "    [theme=dark] .colab-df-convert {\n",
              "      background-color: #3B4455;\n",
              "      fill: #D2E3FC;\n",
              "    }\n",
              "\n",
              "    [theme=dark] .colab-df-convert:hover {\n",
              "      background-color: #434B5C;\n",
              "      box-shadow: 0px 1px 3px 1px rgba(0, 0, 0, 0.15);\n",
              "      filter: drop-shadow(0px 1px 2px rgba(0, 0, 0, 0.3));\n",
              "      fill: #FFFFFF;\n",
              "    }\n",
              "  </style>\n",
              "\n",
              "      <script>\n",
              "        const buttonEl =\n",
              "          document.querySelector('#df-ea5bf9e7-d826-411e-a7c7-4adf0ca31ff4 button.colab-df-convert');\n",
              "        buttonEl.style.display =\n",
              "          google.colab.kernel.accessAllowed ? 'block' : 'none';\n",
              "\n",
              "        async function convertToInteractive(key) {\n",
              "          const element = document.querySelector('#df-ea5bf9e7-d826-411e-a7c7-4adf0ca31ff4');\n",
              "          const dataTable =\n",
              "            await google.colab.kernel.invokeFunction('convertToInteractive',\n",
              "                                                     [key], {});\n",
              "          if (!dataTable) return;\n",
              "\n",
              "          const docLinkHtml = 'Like what you see? Visit the ' +\n",
              "            '<a target=\"_blank\" href=https://colab.research.google.com/notebooks/data_table.ipynb>data table notebook</a>'\n",
              "            + ' to learn more about interactive tables.';\n",
              "          element.innerHTML = '';\n",
              "          dataTable['output_type'] = 'display_data';\n",
              "          await google.colab.output.renderOutput(dataTable, element);\n",
              "          const docLink = document.createElement('div');\n",
              "          docLink.innerHTML = docLinkHtml;\n",
              "          element.appendChild(docLink);\n",
              "        }\n",
              "      </script>\n",
              "    </div>\n",
              "  </div>\n",
              "  "
            ]
          },
          "metadata": {},
          "execution_count": 31
        }
      ],
      "source": [
        "X_test.head()"
      ]
    },
    {
      "cell_type": "code",
      "execution_count": 31,
      "id": "ddca7305",
      "metadata": {
        "execution": {
          "iopub.execute_input": "2023-02-01T13:01:27.809528Z",
          "iopub.status.busy": "2023-02-01T13:01:27.809131Z",
          "iopub.status.idle": "2023-02-01T13:01:27.816958Z",
          "shell.execute_reply": "2023-02-01T13:01:27.815930Z"
        },
        "papermill": {
          "duration": 0.0792,
          "end_time": "2023-02-01T13:01:27.818964",
          "exception": false,
          "start_time": "2023-02-01T13:01:27.739764",
          "status": "completed"
        },
        "tags": [],
        "colab": {
          "base_uri": "https://localhost:8080/"
        },
        "id": "ddca7305",
        "outputId": "b39006eb-01d5-44cd-d404-4c2536d121e3"
      },
      "outputs": [
        {
          "output_type": "execute_result",
          "data": {
            "text/plain": [
              "0    img_42382.jpg\n",
              "1    img_42382.jpg\n",
              "2    img_42382.jpg\n",
              "3    img_42382.jpg\n",
              "4    img_42382.jpg\n",
              "Name: labels, dtype: object"
            ]
          },
          "metadata": {},
          "execution_count": 31
        }
      ],
      "source": [
        "X_test[\"labels\"].head()"
      ]
    },
    {
      "cell_type": "code",
      "execution_count": 32,
      "id": "2e850885",
      "metadata": {
        "execution": {
          "iopub.execute_input": "2023-02-01T13:01:27.955651Z",
          "iopub.status.busy": "2023-02-01T13:01:27.955245Z",
          "iopub.status.idle": "2023-02-01T13:03:17.353663Z",
          "shell.execute_reply": "2023-02-01T13:03:17.352122Z"
        },
        "papermill": {
          "duration": 109.469333,
          "end_time": "2023-02-01T13:03:17.355981",
          "exception": false,
          "start_time": "2023-02-01T13:01:27.886648",
          "status": "completed"
        },
        "tags": [],
        "colab": {
          "base_uri": "https://localhost:8080/"
        },
        "id": "2e850885",
        "outputId": "07f6efb3-3ca3-4834-ef8b-36abf337cff6"
      },
      "outputs": [
        {
          "output_type": "stream",
          "name": "stdout",
          "text": [
            "# Ignore next message from keras,values are replaced anyways\n",
            "Found 0 images belonging to 0 classes.\n",
            "Reinserting dataframe: '79726' images\n"
          ]
        }
      ],
      "source": [
        "test_gen = flow_from_dataframe(data_gen,X_test,path_col = \"path\",y_col = \"labels\",target_size = Img_size,batch_size = 256)"
      ]
    },
    {
      "cell_type": "code",
      "execution_count": 33,
      "id": "71702988",
      "metadata": {
        "execution": {
          "iopub.execute_input": "2023-02-01T13:03:17.491098Z",
          "iopub.status.busy": "2023-02-01T13:03:17.490723Z",
          "iopub.status.idle": "2023-02-01T13:26:06.674200Z",
          "shell.execute_reply": "2023-02-01T13:26:06.673133Z"
        },
        "papermill": {
          "duration": 1369.253796,
          "end_time": "2023-02-01T13:26:06.676998",
          "exception": false,
          "start_time": "2023-02-01T13:03:17.423202",
          "status": "completed"
        },
        "tags": [],
        "colab": {
          "base_uri": "https://localhost:8080/"
        },
        "id": "71702988",
        "outputId": "bed7fd11-34eb-4598-8611-1709cecbb384"
      },
      "outputs": [
        {
          "output_type": "stream",
          "name": "stdout",
          "text": [
            "312/312 [==============================] - 736s 2s/step\n"
          ]
        }
      ],
      "source": [
        "pred = model.predict(test_gen,verbose = 1)"
      ]
    },
    {
      "cell_type": "code",
      "execution_count": 39,
      "id": "1920a542",
      "metadata": {
        "execution": {
          "iopub.execute_input": "2023-02-01T13:26:06.851805Z",
          "iopub.status.busy": "2023-02-01T13:26:06.851365Z",
          "iopub.status.idle": "2023-02-01T13:26:06.858910Z",
          "shell.execute_reply": "2023-02-01T13:26:06.857787Z"
        },
        "papermill": {
          "duration": 0.099427,
          "end_time": "2023-02-01T13:26:06.861946",
          "exception": false,
          "start_time": "2023-02-01T13:26:06.762519",
          "status": "completed"
        },
        "tags": [],
        "colab": {
          "base_uri": "https://localhost:8080/"
        },
        "id": "1920a542",
        "outputId": "ff00d7d8-bfae-45ae-b9a6-995bb6527633"
      },
      "outputs": [
        {
          "output_type": "execute_result",
          "data": {
            "text/plain": [
              "array([[1.7367346e-02, 2.9555906e-06, 3.9777988e-05, 7.3445966e-07,\n",
              "        1.2028665e-05, 1.7389148e-02, 4.7185097e-08, 5.4817450e-05,\n",
              "        4.0153350e-06, 9.6512914e-01],\n",
              "       [6.9346257e-10, 4.1539250e-05, 1.0568917e-03, 3.2833075e-08,\n",
              "        2.1787699e-07, 7.6759310e-10, 9.9849927e-01, 8.6111959e-07,\n",
              "        4.0123213e-04, 5.2287059e-09],\n",
              "       [9.4032247e-04, 2.6514843e-05, 4.2837883e-07, 9.8708147e-01,\n",
              "        1.0858920e-02, 1.3768116e-04, 1.1762994e-09, 8.0154642e-08,\n",
              "        1.1015296e-05, 9.4348798e-04]], dtype=float32)"
            ]
          },
          "metadata": {},
          "execution_count": 39
        }
      ],
      "source": [
        "pred[:3]"
      ]
    },
    {
      "cell_type": "code",
      "execution_count": 40,
      "id": "0194e08f",
      "metadata": {
        "execution": {
          "iopub.execute_input": "2023-02-01T13:26:07.036717Z",
          "iopub.status.busy": "2023-02-01T13:26:07.036352Z",
          "iopub.status.idle": "2023-02-01T13:26:07.041517Z",
          "shell.execute_reply": "2023-02-01T13:26:07.040274Z"
        },
        "papermill": {
          "duration": 0.094294,
          "end_time": "2023-02-01T13:26:07.044201",
          "exception": false,
          "start_time": "2023-02-01T13:26:06.949907",
          "status": "completed"
        },
        "tags": [],
        "id": "0194e08f"
      },
      "outputs": [],
      "source": [
        "def do_clip(pred,mx):\n",
        "    return np.clip(pred,a_min = (1-mx)/9, a_max = mx)"
      ]
    },
    {
      "cell_type": "code",
      "execution_count": 41,
      "id": "33b6785f",
      "metadata": {
        "execution": {
          "iopub.execute_input": "2023-02-01T13:26:07.216125Z",
          "iopub.status.busy": "2023-02-01T13:26:07.215750Z",
          "iopub.status.idle": "2023-02-01T13:26:07.222497Z",
          "shell.execute_reply": "2023-02-01T13:26:07.221438Z"
        },
        "papermill": {
          "duration": 0.096111,
          "end_time": "2023-02-01T13:26:07.224848",
          "exception": false,
          "start_time": "2023-02-01T13:26:07.128737",
          "status": "completed"
        },
        "tags": [],
        "id": "33b6785f"
      },
      "outputs": [],
      "source": [
        "pred = do_clip(pred,0.93)"
      ]
    },
    {
      "cell_type": "code",
      "execution_count": 42,
      "id": "c7953ca8",
      "metadata": {
        "execution": {
          "iopub.execute_input": "2023-02-01T13:26:07.422590Z",
          "iopub.status.busy": "2023-02-01T13:26:07.421871Z",
          "iopub.status.idle": "2023-02-01T13:26:07.438916Z",
          "shell.execute_reply": "2023-02-01T13:26:07.437847Z"
        },
        "papermill": {
          "duration": 0.132048,
          "end_time": "2023-02-01T13:26:07.444790",
          "exception": false,
          "start_time": "2023-02-01T13:26:07.312742",
          "status": "completed"
        },
        "tags": [],
        "colab": {
          "base_uri": "https://localhost:8080/"
        },
        "id": "c7953ca8",
        "outputId": "938998a8-af5e-4125-b1db-b6d8a664d0a8"
      },
      "outputs": [
        {
          "output_type": "execute_result",
          "data": {
            "text/plain": [
              "array([[0.01736735, 0.00777778, 0.00777778, 0.00777778, 0.00777778,\n",
              "        0.01738915, 0.00777778, 0.00777778, 0.00777778, 0.93      ],\n",
              "       [0.00777778, 0.00777778, 0.00777778, 0.00777778, 0.00777778,\n",
              "        0.00777778, 0.93      , 0.00777778, 0.00777778, 0.00777778],\n",
              "       [0.00777778, 0.00777778, 0.00777778, 0.93      , 0.01085892,\n",
              "        0.00777778, 0.00777778, 0.00777778, 0.00777778, 0.00777778]],\n",
              "      dtype=float32)"
            ]
          },
          "metadata": {},
          "execution_count": 42
        }
      ],
      "source": [
        "pred[:3]"
      ]
    },
    {
      "cell_type": "code",
      "execution_count": 43,
      "id": "5148fffd",
      "metadata": {
        "execution": {
          "iopub.execute_input": "2023-02-01T13:26:07.625710Z",
          "iopub.status.busy": "2023-02-01T13:26:07.625296Z",
          "iopub.status.idle": "2023-02-01T13:26:07.632298Z",
          "shell.execute_reply": "2023-02-01T13:26:07.631206Z"
        },
        "papermill": {
          "duration": 0.097175,
          "end_time": "2023-02-01T13:26:07.634427",
          "exception": false,
          "start_time": "2023-02-01T13:26:07.537252",
          "status": "completed"
        },
        "tags": [],
        "colab": {
          "base_uri": "https://localhost:8080/"
        },
        "id": "5148fffd",
        "outputId": "e56bce5d-3a51-4bb8-e9c1-336336068fb6"
      },
      "outputs": [
        {
          "output_type": "execute_result",
          "data": {
            "text/plain": [
              "(79726, 10)"
            ]
          },
          "metadata": {},
          "execution_count": 43
        }
      ],
      "source": [
        "pred.shape"
      ]
    },
    {
      "cell_type": "code",
      "execution_count": 44,
      "id": "d6c38e43",
      "metadata": {
        "execution": {
          "iopub.execute_input": "2023-02-01T13:26:07.809078Z",
          "iopub.status.busy": "2023-02-01T13:26:07.808734Z",
          "iopub.status.idle": "2023-02-01T13:26:07.816764Z",
          "shell.execute_reply": "2023-02-01T13:26:07.815775Z"
        },
        "papermill": {
          "duration": 0.09881,
          "end_time": "2023-02-01T13:26:07.818854",
          "exception": false,
          "start_time": "2023-02-01T13:26:07.720044",
          "status": "completed"
        },
        "tags": [],
        "colab": {
          "base_uri": "https://localhost:8080/"
        },
        "id": "d6c38e43",
        "outputId": "58be4800-c71e-4df3-ef84-cacaaf5f3091"
      },
      "outputs": [
        {
          "output_type": "execute_result",
          "data": {
            "text/plain": [
              "0    img_42382.jpg\n",
              "1    img_42382.jpg\n",
              "2    img_42382.jpg\n",
              "Name: labels, dtype: object"
            ]
          },
          "metadata": {},
          "execution_count": 44
        }
      ],
      "source": [
        "X_test[\"labels\"][:3]"
      ]
    },
    {
      "cell_type": "code",
      "execution_count": 45,
      "id": "555058ef",
      "metadata": {
        "execution": {
          "iopub.execute_input": "2023-02-01T13:26:07.991500Z",
          "iopub.status.busy": "2023-02-01T13:26:07.990312Z",
          "iopub.status.idle": "2023-02-01T13:26:08.014568Z",
          "shell.execute_reply": "2023-02-01T13:26:08.013553Z"
        },
        "papermill": {
          "duration": 0.112558,
          "end_time": "2023-02-01T13:26:08.017181",
          "exception": false,
          "start_time": "2023-02-01T13:26:07.904623",
          "status": "completed"
        },
        "tags": [],
        "id": "555058ef"
      },
      "outputs": [],
      "source": [
        "submission = pd.DataFrame()\n",
        "submission[\"img\"] = X_test[\"labels\"]\n",
        "\n",
        "submission[\"c0\"] = pred[:,0]\n",
        "submission[\"c1\"] = pred[:,1]\n",
        "submission[\"c2\"] = pred[:,2]\n",
        "submission[\"c3\"] = pred[:,3]\n",
        "submission[\"c4\"] = pred[:,4]\n",
        "submission[\"c5\"] = pred[:,5]\n",
        "submission[\"c6\"] = pred[:,6]\n",
        "submission[\"c7\"] = pred[:,7]\n",
        "submission[\"c8\"] = pred[:,8]\n",
        "submission[\"c9\"] = pred[:,9]"
      ]
    },
    {
      "cell_type": "code",
      "execution_count": null,
      "id": "47963847",
      "metadata": {
        "execution": {
          "iopub.execute_input": "2023-02-01T13:26:08.196715Z",
          "iopub.status.busy": "2023-02-01T13:26:08.196169Z",
          "iopub.status.idle": "2023-02-01T13:26:08.238792Z",
          "shell.execute_reply": "2023-02-01T13:26:08.237611Z"
        },
        "papermill": {
          "duration": 0.138818,
          "end_time": "2023-02-01T13:26:08.241389",
          "exception": false,
          "start_time": "2023-02-01T13:26:08.102571",
          "status": "completed"
        },
        "tags": [],
        "id": "47963847",
        "outputId": "296dc66f-64e6-4a3c-ffeb-668bd1b72265"
      },
      "outputs": [
        {
          "data": {
            "text/html": [
              "<div>\n",
              "<style scoped>\n",
              "    .dataframe tbody tr th:only-of-type {\n",
              "        vertical-align: middle;\n",
              "    }\n",
              "\n",
              "    .dataframe tbody tr th {\n",
              "        vertical-align: top;\n",
              "    }\n",
              "\n",
              "    .dataframe thead th {\n",
              "        text-align: right;\n",
              "    }\n",
              "</style>\n",
              "<table border=\"1\" class=\"dataframe\">\n",
              "  <thead>\n",
              "    <tr style=\"text-align: right;\">\n",
              "      <th></th>\n",
              "      <th>img</th>\n",
              "      <th>c0</th>\n",
              "      <th>c1</th>\n",
              "      <th>c2</th>\n",
              "      <th>c3</th>\n",
              "      <th>c4</th>\n",
              "      <th>c5</th>\n",
              "      <th>c6</th>\n",
              "      <th>c7</th>\n",
              "      <th>c8</th>\n",
              "      <th>c9</th>\n",
              "    </tr>\n",
              "  </thead>\n",
              "  <tbody>\n",
              "    <tr>\n",
              "      <th>0</th>\n",
              "      <td>img_96590.jpg</td>\n",
              "      <td>0.020559</td>\n",
              "      <td>0.007778</td>\n",
              "      <td>0.007778</td>\n",
              "      <td>0.335404</td>\n",
              "      <td>0.342313</td>\n",
              "      <td>0.007778</td>\n",
              "      <td>0.007778</td>\n",
              "      <td>0.007778</td>\n",
              "      <td>0.007778</td>\n",
              "      <td>0.300499</td>\n",
              "    </tr>\n",
              "    <tr>\n",
              "      <th>1</th>\n",
              "      <td>img_96590.jpg</td>\n",
              "      <td>0.007778</td>\n",
              "      <td>0.007778</td>\n",
              "      <td>0.007778</td>\n",
              "      <td>0.007778</td>\n",
              "      <td>0.930000</td>\n",
              "      <td>0.007778</td>\n",
              "      <td>0.007778</td>\n",
              "      <td>0.007778</td>\n",
              "      <td>0.007778</td>\n",
              "      <td>0.007778</td>\n",
              "    </tr>\n",
              "    <tr>\n",
              "      <th>2</th>\n",
              "      <td>img_96590.jpg</td>\n",
              "      <td>0.007778</td>\n",
              "      <td>0.007778</td>\n",
              "      <td>0.007778</td>\n",
              "      <td>0.007778</td>\n",
              "      <td>0.013049</td>\n",
              "      <td>0.007778</td>\n",
              "      <td>0.704885</td>\n",
              "      <td>0.221488</td>\n",
              "      <td>0.060294</td>\n",
              "      <td>0.007778</td>\n",
              "    </tr>\n",
              "    <tr>\n",
              "      <th>3</th>\n",
              "      <td>img_96590.jpg</td>\n",
              "      <td>0.007778</td>\n",
              "      <td>0.007778</td>\n",
              "      <td>0.007778</td>\n",
              "      <td>0.007778</td>\n",
              "      <td>0.007778</td>\n",
              "      <td>0.007778</td>\n",
              "      <td>0.007778</td>\n",
              "      <td>0.025985</td>\n",
              "      <td>0.930000</td>\n",
              "      <td>0.007778</td>\n",
              "    </tr>\n",
              "    <tr>\n",
              "      <th>4</th>\n",
              "      <td>img_96590.jpg</td>\n",
              "      <td>0.930000</td>\n",
              "      <td>0.007778</td>\n",
              "      <td>0.007778</td>\n",
              "      <td>0.007778</td>\n",
              "      <td>0.007778</td>\n",
              "      <td>0.007778</td>\n",
              "      <td>0.007778</td>\n",
              "      <td>0.007778</td>\n",
              "      <td>0.007778</td>\n",
              "      <td>0.027243</td>\n",
              "    </tr>\n",
              "  </tbody>\n",
              "</table>\n",
              "</div>"
            ],
            "text/plain": [
              "             img        c0        c1        c2        c3        c4        c5  \\\n",
              "0  img_96590.jpg  0.020559  0.007778  0.007778  0.335404  0.342313  0.007778   \n",
              "1  img_96590.jpg  0.007778  0.007778  0.007778  0.007778  0.930000  0.007778   \n",
              "2  img_96590.jpg  0.007778  0.007778  0.007778  0.007778  0.013049  0.007778   \n",
              "3  img_96590.jpg  0.007778  0.007778  0.007778  0.007778  0.007778  0.007778   \n",
              "4  img_96590.jpg  0.930000  0.007778  0.007778  0.007778  0.007778  0.007778   \n",
              "\n",
              "         c6        c7        c8        c9  \n",
              "0  0.007778  0.007778  0.007778  0.300499  \n",
              "1  0.007778  0.007778  0.007778  0.007778  \n",
              "2  0.704885  0.221488  0.060294  0.007778  \n",
              "3  0.007778  0.025985  0.930000  0.007778  \n",
              "4  0.007778  0.007778  0.007778  0.027243  "
            ]
          },
          "execution_count": 38,
          "metadata": {},
          "output_type": "execute_result"
        }
      ],
      "source": [
        "submission.head()"
      ]
    },
    {
      "cell_type": "code",
      "execution_count": null,
      "id": "c31202cc",
      "metadata": {
        "execution": {
          "iopub.execute_input": "2023-02-01T13:26:08.413946Z",
          "iopub.status.busy": "2023-02-01T13:26:08.413578Z",
          "iopub.status.idle": "2023-02-01T13:26:09.368580Z",
          "shell.execute_reply": "2023-02-01T13:26:09.367472Z"
        },
        "papermill": {
          "duration": 1.044512,
          "end_time": "2023-02-01T13:26:09.371996",
          "exception": false,
          "start_time": "2023-02-01T13:26:08.327484",
          "status": "completed"
        },
        "tags": [],
        "id": "c31202cc"
      },
      "outputs": [],
      "source": [
        "# submission.to_csv(\"submission_1.csv\",index = False)"
      ]
    },
    {
      "cell_type": "code",
      "execution_count": 3,
      "id": "7cf75699",
      "metadata": {
        "papermill": {
          "duration": 0.08558,
          "end_time": "2023-02-01T13:26:09.594008",
          "exception": false,
          "start_time": "2023-02-01T13:26:09.508428",
          "status": "completed"
        },
        "tags": [],
        "id": "7cf75699"
      },
      "outputs": [],
      "source": [
        "model = load_model(\"/content/drive/MyDrive/Distracted_Driver_Detection/model.h5\") # Loading the model"
      ]
    },
    {
      "cell_type": "markdown",
      "source": [
        "Preparing code for making WebApplication"
      ],
      "metadata": {
        "id": "D6ixY2Ni4ZRX"
      },
      "id": "D6ixY2Ni4ZRX"
    },
    {
      "cell_type": "code",
      "source": [
        "from PIL import Image\n",
        "img = Image.open(\"/content/img_13.jpg\")\n",
        "# img = img.resize((128,128))\n",
        "type(img)"
      ],
      "metadata": {
        "colab": {
          "base_uri": "https://localhost:8080/"
        },
        "id": "Ckx6m7xD2mYn",
        "outputId": "cb54ece3-af25-4c64-be92-c303d2e23d3d"
      },
      "id": "Ckx6m7xD2mYn",
      "execution_count": 3,
      "outputs": [
        {
          "output_type": "execute_result",
          "data": {
            "text/plain": [
              "PIL.JpegImagePlugin.JpegImageFile"
            ]
          },
          "metadata": {},
          "execution_count": 3
        }
      ]
    },
    {
      "cell_type": "code",
      "source": [
        "import numpy as np\n",
        "img = np.array(img)"
      ],
      "metadata": {
        "id": "BBvI-y2R-Q-u"
      },
      "id": "BBvI-y2R-Q-u",
      "execution_count": 29,
      "outputs": []
    },
    {
      "cell_type": "code",
      "source": [
        "img = np.expand_dims(img,axis = 0)"
      ],
      "metadata": {
        "id": "enkubC0M-a7D"
      },
      "id": "enkubC0M-a7D",
      "execution_count": 30,
      "outputs": []
    },
    {
      "cell_type": "code",
      "source": [
        "model.predict(img)"
      ],
      "metadata": {
        "colab": {
          "base_uri": "https://localhost:8080/"
        },
        "id": "eo4ban_D-2re",
        "outputId": "c2bd7a72-2857-4e50-9345-80515f9ef1ef"
      },
      "id": "eo4ban_D-2re",
      "execution_count": 31,
      "outputs": [
        {
          "output_type": "stream",
          "name": "stdout",
          "text": [
            "1/1 [==============================] - 0s 16ms/step\n"
          ]
        },
        {
          "output_type": "execute_result",
          "data": {
            "text/plain": [
              "array([[0.0000000e+00, 0.0000000e+00, 0.0000000e+00, 2.3282269e-32,\n",
              "        1.0000000e+00, 0.0000000e+00, 6.6790234e-37, 0.0000000e+00,\n",
              "        0.0000000e+00, 0.0000000e+00]], dtype=float32)"
            ]
          },
          "metadata": {},
          "execution_count": 31
        }
      ]
    },
    {
      "cell_type": "code",
      "source": [],
      "metadata": {
        "id": "q3eE_Ws4z9LG"
      },
      "id": "q3eE_Ws4z9LG",
      "execution_count": null,
      "outputs": []
    }
  ],
  "metadata": {
    "kernelspec": {
      "display_name": "Python 3",
      "language": "python",
      "name": "python3"
    },
    "language_info": {
      "codemirror_mode": {
        "name": "ipython",
        "version": 3
      },
      "file_extension": ".py",
      "mimetype": "text/x-python",
      "name": "python",
      "nbconvert_exporter": "python",
      "pygments_lexer": "ipython3",
      "version": "3.7.12"
    },
    "papermill": {
      "default_parameters": {},
      "duration": 2122.432147,
      "end_time": "2023-02-01T13:26:12.778819",
      "environment_variables": {},
      "exception": null,
      "input_path": "__notebook__.ipynb",
      "output_path": "__notebook__.ipynb",
      "parameters": {},
      "start_time": "2023-02-01T12:50:50.346672",
      "version": "2.3.4"
    },
    "colab": {
      "provenance": []
    },
    "accelerator": "GPU",
    "gpuClass": "standard"
  },
  "nbformat": 4,
  "nbformat_minor": 5
}